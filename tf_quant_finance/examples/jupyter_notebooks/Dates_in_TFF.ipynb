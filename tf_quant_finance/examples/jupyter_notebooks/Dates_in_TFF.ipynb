{
  "cells": [
    {
      "cell_type": "code",
      "execution_count": null,
      "metadata": {
        "id": "7GxUxaCDn-BU"
      },
      "outputs": [],
      "source": [
        "#@title Install dependencies\n",
        "\n",
        "!pip install --upgrade tensorflow\n",
        "!pip install tff-nightly"
      ]
    },
    {
      "cell_type": "code",
      "execution_count": 47,
      "metadata": {
        "id": "lUoalEum5l00"
      },
      "outputs": [],
      "source": [
        "#@title Imports\n",
        "import tensorflow as tf\n",
        "import tf_quant_finance as tff\n",
        "import numpy as np\n",
        "import datetime\n",
        "import pandas as pd"
      ]
    },
    {
      "cell_type": "markdown",
      "metadata": {
        "id": "LCTMGpuSeP_n"
      },
      "source": [
        "# Date Tensor Essentials\n"
      ]
    },
    {
      "cell_type": "markdown",
      "metadata": {
        "id": "ySeShHlSsGep"
      },
      "source": [
        "## Constructing DateTensors\n",
        "\n",
        "\n",
        "\n",
        "There are 5 possible ways of constructing Date Tensors using tff.datetime.\n",
        "\n",
        "1.   Sequence of `datetime.datetime`, `datetime.date`, or any other object with attributes or properties called `year`, `month` and `day`.\n",
        "2.   A numpy array of `datetime64` type. \n",
        "3.   Sequence of (year, month, day) tuples. Months are 1-based (with January as 1) and tff.datetime.Month enum may be used instead of ints. Days are also 1-based. \n",
        "4.   A tuple of three int32 `Tensors` containing year, month and date as positive integers in that order.\n",
        "5.   A single int32 `Tensor` containing ordinals (i.e. number of days since 31 Dec 0 with 1 being 1 Jan 1.)\n",
        "\n"
      ]
    },
    {
      "cell_type": "code",
      "execution_count": 48,
      "metadata": {
        "id": "6FFc4SzjDN_S",
        "outputId": "e60d7b53-1b7b-41cf-bb5d-468d5d7de247",
        "colab": {
          "base_uri": "https://localhost:8080/"
        }
      },
      "outputs": [
        {
          "output_type": "execute_result",
          "data": {
            "text/plain": [
              "DateTensor: shape=(2,), contents=array([[2015,    4,   15],\n",
              "       [2017,   12,   30]], dtype=int32)"
            ]
          },
          "metadata": {},
          "execution_count": 48
        }
      ],
      "source": [
        "#@title (1) Constructing Dates: sequence of `datetime.datetime`\n",
        "# Use Python's datetime library to construct a date as datetime.date(year, month, day).\n",
        "dates = [datetime.date(2015, 4, 15), datetime.date(2017, 12, 30)]\n",
        "# Then, convert this into a date tensor.\n",
        "date_tensor = tff.datetime.dates_from_datetimes(dates)\n",
        "date_tensor"
      ]
    },
    {
      "cell_type": "code",
      "execution_count": 49,
      "metadata": {
        "id": "0r2g5j41DI16",
        "outputId": "6ac9a344-f3f3-4327-d21e-3b89df5871a9",
        "colab": {
          "base_uri": "https://localhost:8080/"
        }
      },
      "outputs": [
        {
          "output_type": "execute_result",
          "data": {
            "text/plain": [
              "DateTensor: shape=(2, 2), contents=array([[[2019,    3,   25],\n",
              "        [2020,    6,    2]],\n",
              "\n",
              "       [[2020,    9,   15],\n",
              "        [2020,   12,   27]]], dtype=int32)"
            ]
          },
          "metadata": {},
          "execution_count": 49
        }
      ],
      "source": [
        "#@title (2) Constructing Dates: a numpy array\n",
        "# You can also use a numpy array of dtype datetime64 (in this case, generated via Python's datetime library).\n",
        "dates_np = np.array(\n",
        "  [[datetime.date(2019, 3, 25), datetime.date(2020, 6, 2)],\n",
        "   [datetime.date(2020, 9, 15), datetime.date(2020, 12, 27)]],\n",
        "   dtype=np.datetime64)\n",
        "# Again, convert this into a date tensor.\n",
        "date_tensor = tff.datetime.dates_from_np_datetimes(dates_np)\n",
        "date_tensor"
      ]
    },
    {
      "cell_type": "code",
      "execution_count": 50,
      "metadata": {
        "id": "pw4M_-33FVQr",
        "outputId": "fbf55894-3463-4472-f757-667a07e14a46",
        "colab": {
          "base_uri": "https://localhost:8080/"
        }
      },
      "outputs": [
        {
          "output_type": "execute_result",
          "data": {
            "text/plain": [
              "DateTensor: shape=(2,), contents=array([[2020,    2,   25],\n",
              "       [2020,    3,    2]], dtype=int32)"
            ]
          },
          "metadata": {},
          "execution_count": 50
        }
      ],
      "source": [
        "#@title (3) Constructing Dates: sequence of tuples\n",
        "# You can start instead with a sequence of tuples.\n",
        "date_tensor = tff.datetime.dates_from_tuples([(2020, 2, 25), (2020, 3, 2)])\n",
        "date_tensor"
      ]
    },
    {
      "cell_type": "code",
      "execution_count": 51,
      "metadata": {
        "id": "rTNr3TAZDejd",
        "outputId": "7f2aff84-c38e-4930-8984-c25e4a9a87bf",
        "colab": {
          "base_uri": "https://localhost:8080/"
        }
      },
      "outputs": [
        {
          "output_type": "execute_result",
          "data": {
            "text/plain": [
              "DateTensor: shape=(2,), contents=array([[2015,    4,    1],\n",
              "       [2017,   12,   30]], dtype=int32)"
            ]
          },
          "metadata": {},
          "execution_count": 51
        }
      ],
      "source": [
        "#@title (4) Constructing Dates: a tuple of three tensors\n",
        "# Another way of using tuples is to first create a tuple of three tensors for the respective Day, Month and Year. You can do this by using TensorFlow's 'constant' function as follows:\n",
        "year = tf.constant([2015, 2017], dtype=tf.int32)\n",
        "month = tf.constant([4, 12], dtype=tf.int32)\n",
        "day = tf.constant([1, 30], dtype=tf.int32)\n",
        "date_tensor = tff.datetime.dates_from_year_month_day(year, month, day)\n",
        "date_tensor"
      ]
    },
    {
      "cell_type": "code",
      "execution_count": 52,
      "metadata": {
        "id": "CqI-JagLPHQ7",
        "outputId": "2e7e90d7-e933-4b74-cd43-509d7890be9d",
        "colab": {
          "base_uri": "https://localhost:8080/"
        }
      },
      "outputs": [
        {
          "output_type": "stream",
          "name": "stdout",
          "text": [
            "Invalid day-month pairing.\n",
            "Condition x <= y did not hold.\n",
            "Indices of first 1 different values:\n",
            "[[0]]\n",
            "Corresponding x values:\n",
            "[31]\n",
            "Corresponding y values:\n",
            "[30]\n",
            "First 2 elements of x:\n",
            "[31 30]\n",
            "First 2 elements of y:\n",
            "[30 31]\n"
          ]
        }
      ],
      "source": [
        "# Note that if the days don't represent valid dates with their respective months or vice versa, you will get an `InvalidArgumentError`, e.g.:\n",
        "try:\n",
        "  year = tf.constant([2015, 2017], dtype=tf.int32)\n",
        "  month = tf.constant([4, 12], dtype=tf.int32)\n",
        "  day = tf.constant([31, 30], dtype=tf.int32)\n",
        "  date_tensor = tff.datetime.dates_from_year_month_day(year, month, day)\n",
        "except tf.errors.InvalidArgumentError as e:\n",
        "  print (e)"
      ]
    },
    {
      "cell_type": "code",
      "execution_count": 53,
      "metadata": {
        "id": "XSNiLVISDvex",
        "outputId": "9951fd16-52da-495a-c989-7cc72255a6aa",
        "colab": {
          "base_uri": "https://localhost:8080/"
        }
      },
      "outputs": [
        {
          "output_type": "execute_result",
          "data": {
            "text/plain": [
              "DateTensor: shape=(1,), contents=array([[1, 1, 1]], dtype=int32)"
            ]
          },
          "metadata": {},
          "execution_count": 53
        }
      ],
      "source": [
        "#@title (5) Constructing Dates: a single tensor containing ordinals\n",
        "# And finally, you can create date tensors using ordinals. The ordinal value is\n",
        "# defined as the number of days since 1 Jan 0001. \n",
        "# So, for example, 1 Jan 0001 has the ordinal value of 1.\n",
        "ordinals = tf.constant([1], dtype=tf.int32)\n",
        "date_tensor = tff.datetime.dates_from_ordinals(ordinals)\n",
        "date_tensor"
      ]
    },
    {
      "cell_type": "code",
      "execution_count": 54,
      "metadata": {
        "id": "HiEW0sgiQWPI",
        "outputId": "95b20923-bb9f-4551-f608-e108fd105380",
        "colab": {
          "base_uri": "https://localhost:8080/"
        }
      },
      "outputs": [
        {
          "output_type": "execute_result",
          "data": {
            "text/plain": [
              "DateTensor: shape=(5,), contents=array([[2015,    4,   15],\n",
              "       [2017,   12,   30],\n",
              "       [1871,    8,    4],\n",
              "       [2119,    9,    3],\n",
              "       [1913,    5,   10]], dtype=int32)"
            ]
          },
          "metadata": {},
          "execution_count": 54
        }
      ],
      "source": [
        "# We can create more meaningful and numerous dates as follows:\n",
        "ordinals = tf.constant([\n",
        "    735703, 736693, 683219, 773829, 698473], dtype=tf.int32)\n",
        "date_tensor = tff.datetime.dates_from_ordinals(ordinals)\n",
        "date_tensor"
      ]
    },
    {
      "cell_type": "code",
      "execution_count": 55,
      "metadata": {
        "id": "8b9suIazS5AP",
        "outputId": "ff28279c-b6c8-46fa-f471-2f8b18da1096",
        "colab": {
          "base_uri": "https://localhost:8080/"
        }
      },
      "outputs": [
        {
          "output_type": "execute_result",
          "data": {
            "text/plain": [
              "736693"
            ]
          },
          "metadata": {},
          "execution_count": 55
        }
      ],
      "source": [
        "# You can identify the ordinal value of a date by computing the number of days since 1 Jan 0001.\n",
        "delta = datetime.date(2017,12,30) - datetime.date(1,1,1)\n",
        "delta.days + 1"
      ]
    },
    {
      "cell_type": "markdown",
      "metadata": {
        "id": "_zgPFwQIUUbG"
      },
      "source": [
        "## Generating random dates\n",
        "\n",
        "To generate random dates from date tensors between specific start_dates (inclusive) and end_dates (exclusive), we can use tff.datetime.random_dates.  The end_dates must be a tensor of a shape compatible with start_dates. In this case we've started with a pair and requested a size of 10, meaning that our tensor will be the shape (10, 2)."
      ]
    },
    {
      "cell_type": "code",
      "execution_count": 56,
      "metadata": {
        "id": "83ybZV4VWxKk",
        "outputId": "e913827a-c02e-4906-a1fc-cfb47d906aa2",
        "colab": {
          "base_uri": "https://localhost:8080/"
        }
      },
      "outputs": [
        {
          "output_type": "execute_result",
          "data": {
            "text/plain": [
              "DateTensor: shape=(10, 2), contents=array([[[2021,    1,    7],\n",
              "        [2021,    4,   10]],\n",
              "\n",
              "       [[2020,   10,   27],\n",
              "        [2020,    9,   24]],\n",
              "\n",
              "       [[2020,    6,    8],\n",
              "        [2020,    9,   12]],\n",
              "\n",
              "       [[2020,    5,   30],\n",
              "        [2020,    7,    7]],\n",
              "\n",
              "       [[2021,    2,   10],\n",
              "        [2021,    1,    4]],\n",
              "\n",
              "       [[2020,    5,   25],\n",
              "        [2020,   11,    4]],\n",
              "\n",
              "       [[2021,    4,   22],\n",
              "        [2020,    8,    7]],\n",
              "\n",
              "       [[2020,    6,    5],\n",
              "        [2020,    7,   21]],\n",
              "\n",
              "       [[2021,    1,   21],\n",
              "        [2021,    2,    3]],\n",
              "\n",
              "       [[2021,    1,    1],\n",
              "        [2020,    9,    7]]], dtype=int32)"
            ]
          },
          "metadata": {},
          "execution_count": 56
        }
      ],
      "source": [
        "# Generate random dates\n",
        "start_dates = tff.datetime.dates_from_tuples([\n",
        "    (2020, 5, 16),\n",
        "    (2020, 6, 13)\n",
        "  ])\n",
        "end_dates = tff.datetime.dates_from_tuples([(2021, 5, 21)])\n",
        "size = 10  # Generate 10 dates for each pair of (start, end date).\n",
        "random_dates = tff.datetime.random_dates(start_date=start_dates, end_date=end_dates, size=size)\n",
        "random_dates"
      ]
    },
    {
      "cell_type": "code",
      "execution_count": 57,
      "metadata": {
        "id": "gTbFjnBXVTm9",
        "outputId": "86546bc2-ae15-48be-ecd9-77ff0f50ee9c",
        "colab": {
          "base_uri": "https://localhost:8080/"
        }
      },
      "outputs": [
        {
          "output_type": "stream",
          "name": "stdout",
          "text": [
            "Invalid Argument Error, Incompatible shapes\n"
          ]
        }
      ],
      "source": [
        "# In the following case, the start_dates shape (4) and end_dates shape (2) don't \n",
        "# broadcast, producing an error.\n",
        "try:\n",
        "  start_dates = tff.datetime.dates_from_tuples([\n",
        "    (2020, 5, 16),\n",
        "    (2020, 6, 13),\n",
        "    (2020, 10, 31),\n",
        "    (2020, 12, 1)\n",
        "  ])\n",
        "  end_dates = tff.datetime.dates_from_tuples([(2021, 5, 21), (2021, 10, 20)])\n",
        "  size = 4  # Generate 4 dates for each (start, end date).\n",
        "  random_dates = tff.datetime.random_dates(start_date=start_dates, end_date=end_dates, size=size)\n",
        "  random_dates\n",
        "except tf.errors.InvalidArgumentError:\n",
        "  print('Invalid Argument Error, Incompatible shapes')  "
      ]
    },
    {
      "cell_type": "markdown",
      "metadata": {
        "id": "L913G28mtkRq"
      },
      "source": [
        "### Broadcasting"
      ]
    },
    {
      "cell_type": "code",
      "execution_count": 58,
      "metadata": {
        "id": "UL7LU2mFXYzO",
        "outputId": "a8cbb0f5-4a62-4530-e355-294e9e0735d8",
        "colab": {
          "base_uri": "https://localhost:8080/"
        }
      },
      "outputs": [
        {
          "output_type": "execute_result",
          "data": {
            "text/plain": [
              "DateTensor: shape=(4, 4), contents=array([[[2021,    4,   17],\n",
              "        [2021,    7,    7],\n",
              "        [2021,    8,   22],\n",
              "        [2021,   11,    8]],\n",
              "\n",
              "       [[2020,    9,   12],\n",
              "        [2020,   10,   28],\n",
              "        [2020,   12,    4],\n",
              "        [2021,    4,   22]],\n",
              "\n",
              "       [[2020,    8,   15],\n",
              "        [2021,    6,   10],\n",
              "        [2020,   12,   24],\n",
              "        [2021,    2,   17]],\n",
              "\n",
              "       [[2020,   10,   11],\n",
              "        [2020,   10,   13],\n",
              "        [2021,    9,   24],\n",
              "        [2021,   11,   13]]], dtype=int32)"
            ]
          },
          "metadata": {},
          "execution_count": 58
        }
      ],
      "source": [
        "# Instead, match the end_dates by using a scalar (single date), or a matching shape of (4)\n",
        "start_dates = tff.datetime.dates_from_tuples([\n",
        "    (2020, 5, 16),\n",
        "    (2020, 6, 13),\n",
        "    (2020, 10, 31),\n",
        "    (2020, 12, 1)\n",
        "  ])\n",
        "end_dates = tff.datetime.dates_from_tuples([\n",
        "    (2021, 5, 21), \n",
        "    (2021, 10, 20), \n",
        "    (2021, 12, 5), \n",
        "    (2021, 11, 20)\n",
        "  ])\n",
        "size = 4  # Generate 4 dates for each (start, end date).\n",
        "random_dates = tff.datetime.random_dates(\n",
        "    start_date=start_dates, end_date=end_dates, size=size\n",
        "    )\n",
        "random_dates"
      ]
    },
    {
      "cell_type": "markdown",
      "metadata": {
        "id": "juqAkiMmTTFU"
      },
      "source": [
        "# Dates Exploration\n",
        "\n",
        "Now that we've constructed our dates, let's see what we can do with them."
      ]
    },
    {
      "cell_type": "code",
      "execution_count": 59,
      "metadata": {
        "id": "Ov-SE0D9WeOP",
        "outputId": "82e4796f-b8bc-4773-947f-6b93e4bea567",
        "colab": {
          "base_uri": "https://localhost:8080/"
        }
      },
      "outputs": [
        {
          "output_type": "execute_result",
          "data": {
            "text/plain": [
              "<tf.Tensor: shape=(4, 4), dtype=int32, numpy=\n",
              "array([[17,  7, 22,  8],\n",
              "       [12, 28,  4, 22],\n",
              "       [15, 10, 24, 17],\n",
              "       [11, 13, 24, 13]], dtype=int32)>"
            ]
          },
          "metadata": {},
          "execution_count": 59
        }
      ],
      "source": [
        "# Return the day, the month or the year from date tensors.\n",
        "random_dates.day()"
      ]
    },
    {
      "cell_type": "code",
      "execution_count": 60,
      "metadata": {
        "id": "lg66bmNRXAWr",
        "outputId": "8dfac76c-2b08-48f3-aca2-141e04518a66",
        "colab": {
          "base_uri": "https://localhost:8080/"
        }
      },
      "outputs": [
        {
          "output_type": "execute_result",
          "data": {
            "text/plain": [
              "<tf.Tensor: shape=(4, 4), dtype=int32, numpy=\n",
              "array([[ 4,  7,  8, 11],\n",
              "       [ 9, 10, 12,  4],\n",
              "       [ 8,  6, 12,  2],\n",
              "       [10, 10,  9, 11]], dtype=int32)>"
            ]
          },
          "metadata": {},
          "execution_count": 60
        }
      ],
      "source": [
        "random_dates.month()"
      ]
    },
    {
      "cell_type": "code",
      "execution_count": 61,
      "metadata": {
        "id": "MfM7lzUrXCJq",
        "outputId": "b088f7cb-62c4-4e12-f51b-0980c2b34840",
        "colab": {
          "base_uri": "https://localhost:8080/"
        }
      },
      "outputs": [
        {
          "output_type": "execute_result",
          "data": {
            "text/plain": [
              "<tf.Tensor: shape=(4, 4), dtype=int32, numpy=\n",
              "array([[2021, 2021, 2021, 2021],\n",
              "       [2020, 2020, 2020, 2021],\n",
              "       [2020, 2021, 2020, 2021],\n",
              "       [2020, 2020, 2021, 2021]], dtype=int32)>"
            ]
          },
          "metadata": {},
          "execution_count": 61
        }
      ],
      "source": [
        "random_dates.year()"
      ]
    },
    {
      "cell_type": "code",
      "execution_count": 62,
      "metadata": {
        "id": "eeKG8uG9XHL3",
        "outputId": "165b253f-c3b2-491c-8d6d-d5de79bce5ba",
        "colab": {
          "base_uri": "https://localhost:8080/"
        }
      },
      "outputs": [
        {
          "output_type": "execute_result",
          "data": {
            "text/plain": [
              "<tf.Tensor: shape=(4, 4), dtype=int32, numpy=\n",
              "array([[737897, 737978, 738024, 738102],\n",
              "       [737680, 737726, 737763, 737902],\n",
              "       [737652, 737951, 737783, 737838],\n",
              "       [737709, 737711, 738057, 738107]], dtype=int32)>"
            ]
          },
          "metadata": {},
          "execution_count": 62
        }
      ],
      "source": [
        "# Or the ordinals of date tensors.\n",
        "random_dates.ordinal()"
      ]
    },
    {
      "cell_type": "code",
      "execution_count": 63,
      "metadata": {
        "id": "kq5Su9aGGkxE",
        "outputId": "5569d794-7d3c-4ece-e140-987b344ee175",
        "colab": {
          "base_uri": "https://localhost:8080/"
        }
      },
      "outputs": [
        {
          "output_type": "execute_result",
          "data": {
            "text/plain": [
              "DateTensor: shape=(4, 4), contents=array([[[2021,    4,   27],\n",
              "        [2021,    7,   17],\n",
              "        [2021,    9,    1],\n",
              "        [2021,   11,   18]],\n",
              "\n",
              "       [[2020,    9,   22],\n",
              "        [2020,   11,    7],\n",
              "        [2020,   12,   14],\n",
              "        [2021,    5,    2]],\n",
              "\n",
              "       [[2020,    8,   25],\n",
              "        [2021,    6,   20],\n",
              "        [2021,    1,    3],\n",
              "        [2021,    2,   27]],\n",
              "\n",
              "       [[2020,   10,   21],\n",
              "        [2020,   10,   23],\n",
              "        [2021,   10,    4],\n",
              "        [2021,   11,   23]]], dtype=int32)"
            ]
          },
          "metadata": {},
          "execution_count": 63
        }
      ],
      "source": [
        "# We can then use the days() function to return any multiple of days. For example,\n",
        "# what is the date 10 days from our date tensors?\n",
        "new_dates = random_dates + tff.datetime.periods.day()*10\n",
        "new_dates"
      ]
    },
    {
      "cell_type": "code",
      "execution_count": 64,
      "metadata": {
        "id": "JPpB7PLGXPWs",
        "outputId": "a7045dd1-cc0b-4a80-faeb-1aa63be99c55",
        "colab": {
          "base_uri": "https://localhost:8080/"
        }
      },
      "outputs": [
        {
          "output_type": "execute_result",
          "data": {
            "text/plain": [
              "<tf.Tensor: shape=(4, 4), dtype=int32, numpy=\n",
              "array([[5, 2, 6, 0],\n",
              "       [5, 2, 4, 3],\n",
              "       [5, 3, 3, 2],\n",
              "       [6, 1, 4, 5]], dtype=int32)>"
            ]
          },
          "metadata": {},
          "execution_count": 64
        }
      ],
      "source": [
        "# You can also identify the corresponding day of the week of your date tensors, \n",
        "# whereby Monday is \"0\" and Sunday is \"6\", according to Python dates convention.\n",
        "random_dates.day_of_week()"
      ]
    },
    {
      "cell_type": "code",
      "execution_count": 65,
      "metadata": {
        "id": "p03f53pZXfAd",
        "outputId": "59a1f1dc-dda4-4758-9582-7b9cc8e3b2fb",
        "colab": {
          "base_uri": "https://localhost:8080/"
        }
      },
      "outputs": [
        {
          "output_type": "stream",
          "name": "stdout",
          "text": [
            "tf.Tensor(\n",
            "[[b'Saturday' b'Wednesday' b'Sunday' b'Monday']\n",
            " [b'Saturday' b'Wednesday' b'Friday' b'Thursday']\n",
            " [b'Saturday' b'Thursday' b'Thursday' b'Wednesday']\n",
            " [b'Sunday' b'Tuesday' b'Friday' b'Saturday']], shape=(4, 4), dtype=string)\n"
          ]
        }
      ],
      "source": [
        "# To make this more intuitive, we can create a TF table with the assigned values \n",
        "# to then look up and print the corresponding day of the week.\n",
        "table = tf.lookup.StaticHashTable(\n",
        "    initializer=tf.lookup.KeyValueTensorInitializer(\n",
        "        keys=tf.constant([0, 1, 2, 3, 4, 5, 6]),\n",
        "        values=['Monday', 'Tuesday', 'Wednesday', 'Thursday', 'Friday', 'Saturday', 'Sunday']\n",
        "    ),\n",
        "    default_value='Monday',\n",
        "    name='days_in_week'\n",
        ")\n",
        "\n",
        "input_tensor = random_dates.day_of_week()\n",
        "out = table.lookup(input_tensor)\n",
        "print(out)"
      ]
    },
    {
      "cell_type": "code",
      "execution_count": 66,
      "metadata": {
        "id": "Pj5rY-x6leMA",
        "outputId": "669291cc-507a-4745-ce07-9fc6eda14e05",
        "colab": {
          "base_uri": "https://localhost:8080/"
        }
      },
      "outputs": [
        {
          "output_type": "execute_result",
          "data": {
            "text/plain": [
              "<tf.Tensor: shape=(4, 4), dtype=int32, numpy=\n",
              "array([[107, 188, 234, 312],\n",
              "       [256, 302, 339, 112],\n",
              "       [228, 161, 359,  48],\n",
              "       [285, 287, 267, 317]], dtype=int32)>"
            ]
          },
          "metadata": {},
          "execution_count": 66
        }
      ],
      "source": [
        "# What about the day of the year?\n",
        "random_dates.day_of_year()"
      ]
    },
    {
      "cell_type": "code",
      "execution_count": 67,
      "metadata": {
        "id": "MSo6qR3UlmVL",
        "outputId": "168cbc52-8db9-40c0-d9e4-bac0fab22fd3",
        "colab": {
          "base_uri": "https://localhost:8080/"
        }
      },
      "outputs": [
        {
          "output_type": "execute_result",
          "data": {
            "text/plain": [
              "<tf.Tensor: shape=(4, 4), dtype=int32, numpy=\n",
              "array([[322, 241, 195, 117],\n",
              "       [539, 493, 456, 317],\n",
              "       [567, 268, 436, 381],\n",
              "       [510, 508, 162, 112]], dtype=int32)>"
            ]
          },
          "metadata": {},
          "execution_count": 67
        }
      ],
      "source": [
        "# We can also calculate the number of days until a target date\n",
        "target = tff.datetime.dates_from_tuples([(2022, 3, 5)])\n",
        "random_dates.days_until(target)"
      ]
    },
    {
      "cell_type": "code",
      "execution_count": 68,
      "metadata": {
        "id": "vqF6u8URl5vB",
        "outputId": "59f13cfd-4bbc-4780-ffb8-fd6a27e2cc7d",
        "colab": {
          "base_uri": "https://localhost:8080/"
        }
      },
      "outputs": [
        {
          "output_type": "execute_result",
          "data": {
            "text/plain": [
              "<tf.Tensor: shape=(4, 4), dtype=int32, numpy=\n",
              "array([[-408,  272,  592,  943],\n",
              "       [-191,  524,  853, 1143],\n",
              "       [-163,  299,  833, 1207],\n",
              "       [-220,  539,  559,  938]], dtype=int32)>"
            ]
          },
          "metadata": {},
          "execution_count": 68
        }
      ],
      "source": [
        "# Or multiple target dates, but the shapes of the dates & targets tensors must broadcast.\n",
        "targets = tff.datetime.dates_from_tuples([(2020, 3, 5), (2022, 4, 5), (2023, 4, 6), (2024, 6, 8)])\n",
        "random_dates.days_until(targets)"
      ]
    },
    {
      "cell_type": "code",
      "execution_count": 69,
      "metadata": {
        "id": "BBni4eUirXlG",
        "outputId": "4f7df01f-2808-4ca5-95c6-446c1a918c09",
        "colab": {
          "base_uri": "https://localhost:8080/"
        }
      },
      "outputs": [
        {
          "output_type": "execute_result",
          "data": {
            "text/plain": [
              "DateTensor: shape=(4, 4), contents=array([[[2021,    4,   30],\n",
              "        [2021,    7,   31],\n",
              "        [2021,    8,   31],\n",
              "        [2021,   11,   30]],\n",
              "\n",
              "       [[2020,    9,   30],\n",
              "        [2020,   10,   31],\n",
              "        [2020,   12,   31],\n",
              "        [2021,    4,   30]],\n",
              "\n",
              "       [[2020,    8,   31],\n",
              "        [2021,    6,   30],\n",
              "        [2020,   12,   31],\n",
              "        [2021,    2,   28]],\n",
              "\n",
              "       [[2020,   10,   31],\n",
              "        [2020,   10,   31],\n",
              "        [2021,    9,   30],\n",
              "        [2021,   11,   30]]], dtype=int32)"
            ]
          },
          "metadata": {},
          "execution_count": 69
        }
      ],
      "source": [
        "# Let's now shift our dates to the end of their respective months.\n",
        "random_dates.to_end_of_month()"
      ]
    },
    {
      "cell_type": "markdown",
      "metadata": {
        "id": "d783OaVQmXEd"
      },
      "source": [
        "## Periods\n",
        "\n",
        "Now, let's think about periods. A PeriodType can be any of the following: day, days, week, weeks, month, months, year or years. Often, this is used in conjunction with 'quantity' to calculate the quantity of periods within another period (i.e. how many months in a year)."
      ]
    },
    {
      "cell_type": "code",
      "execution_count": 70,
      "metadata": {
        "id": "6xnsA7bSnzFY",
        "outputId": "491bcbc5-fcf9-4393-f1c6-ffd98bac1865",
        "colab": {
          "base_uri": "https://localhost:8080/"
        }
      },
      "outputs": [
        {
          "output_type": "execute_result",
          "data": {
            "text/plain": [
              "<tf.Tensor: shape=(4, 4), dtype=int32, numpy=\n",
              "array([[30, 31, 31, 30],\n",
              "       [30, 31, 31, 30],\n",
              "       [31, 30, 31, 28],\n",
              "       [31, 31, 30, 30]], dtype=int32)>"
            ]
          },
          "metadata": {},
          "execution_count": 70
        }
      ],
      "source": [
        "# You can compute the number of days in specific periods, in this case the period\n",
        "# is months: How many days are in each month in our date tensors?\n",
        "random_dates.period_length_in_days(tff.datetime.periods.month())"
      ]
    },
    {
      "cell_type": "code",
      "execution_count": 71,
      "metadata": {
        "id": "H_vldVvJev01",
        "outputId": "76ab34b9-1f2d-46be-c2c0-43f6b2a08ff5",
        "colab": {
          "base_uri": "https://localhost:8080/"
        }
      },
      "outputs": [
        {
          "output_type": "execute_result",
          "data": {
            "text/plain": [
              "<tf.Tensor: shape=(4, 4), dtype=int32, numpy=\n",
              "array([[365, 365, 365, 365],\n",
              "       [365, 365, 365, 365],\n",
              "       [365, 365, 365, 365],\n",
              "       [365, 365, 365, 365]], dtype=int32)>"
            ]
          },
          "metadata": {},
          "execution_count": 71
        }
      ],
      "source": [
        "# What about using years as the period?\n",
        "random_dates.period_length_in_days(tff.datetime.periods.year())"
      ]
    },
    {
      "cell_type": "code",
      "execution_count": 72,
      "metadata": {
        "id": "eS-EPiV1qZXr",
        "outputId": "ee55437c-0bf9-4f59-ef1b-8febc8dd9c61",
        "colab": {
          "base_uri": "https://localhost:8080/"
        }
      },
      "outputs": [
        {
          "output_type": "execute_result",
          "data": {
            "text/plain": [
              "<tf.Tensor: shape=(4, 4), dtype=bool, numpy=\n",
              "array([[False, False, False, False],\n",
              "       [False, False, False, False],\n",
              "       [False, False, False, False],\n",
              "       [False, False, False, False]])>"
            ]
          },
          "metadata": {},
          "execution_count": 72
        }
      ],
      "source": [
        "# Looks like there aren't any leap years in our dates, let's confirm. This\n",
        "# function is in the 'utils' part of our library.\n",
        "years = random_dates.period_length_in_days(tff.datetime.periods.year())\n",
        "tff.datetime.utils.is_leap_year(years)"
      ]
    },
    {
      "cell_type": "code",
      "execution_count": 73,
      "metadata": {
        "id": "2pnCAELXYLaG",
        "outputId": "25f4f9d7-2f18-4638-a5f4-7c12a7f807c8",
        "colab": {
          "base_uri": "https://localhost:8080/"
        }
      },
      "outputs": [
        {
          "output_type": "execute_result",
          "data": {
            "text/plain": [
              "<tf.Tensor: shape=(2,), dtype=int32, numpy=array([121, 153], dtype=int32)>"
            ]
          },
          "metadata": {},
          "execution_count": 73
        }
      ],
      "source": [
        "# We can also specify the period. For example, how many days are there up to the \n",
        "# 4th and 5th month in 2020?\n",
        "dates = tff.datetime.dates_from_tuples([(2020, 2, 25), (2020, 3, 2)])\n",
        "periods = tff.datetime.periods.months([4, 5])\n",
        "dates.period_length_in_days(periods)"
      ]
    },
    {
      "cell_type": "markdown",
      "metadata": {
        "id": "zjBfpr8Lz4r5"
      },
      "source": [
        "# **Holiday Calendar**\n",
        "\n",
        "Up to this point we've been using a standard year for our dates. We can also create Holiday Calendars in order to calculate dates taking business days and holidays into account.\n"
      ]
    },
    {
      "cell_type": "markdown",
      "metadata": {
        "id": "GutS7OroskOi"
      },
      "source": [
        "## Creating Holiday Calendars - with Pandas\n",
        "\n",
        "The first step will be to create our own Holiday Calendar. This can be done completely manually, however, it would then be necessary to provide holidays for each year and also adjust the holidays that fall on weekends if required. To avoid that, we can use AbstractHolidayCalendar from Pandas."
      ]
    },
    {
      "cell_type": "code",
      "execution_count": 74,
      "metadata": {
        "id": "LW0_b1vvsO2b",
        "outputId": "a18a97e7-760f-4985-b00d-6ce384e9eee4",
        "colab": {
          "base_uri": "https://localhost:8080/"
        }
      },
      "outputs": [
        {
          "output_type": "execute_result",
          "data": {
            "text/plain": [
              "array(['2020-01-01', '2020-12-25', '2021-01-01', '2021-12-24',\n",
              "       '2021-12-31', '2022-12-26', '2023-01-02', '2023-12-25',\n",
              "       '2024-01-01', '2024-12-25', '2025-01-01', '2025-12-25',\n",
              "       '2026-01-01', '2026-12-25', '2027-01-01', '2027-12-24',\n",
              "       '2027-12-31', '2028-12-25', '2029-01-01', '2029-12-25',\n",
              "       '2030-01-01', '2030-12-25'], dtype='datetime64[D]')"
            ]
          },
          "metadata": {},
          "execution_count": 74
        }
      ],
      "source": [
        "# Start with the necessary imports.\n",
        "from pandas.tseries.holiday import AbstractHolidayCalendar\n",
        "from pandas.tseries.holiday import Holiday\n",
        "from pandas.tseries.holiday import nearest_workday\n",
        "\n",
        "# Define the rules (i.e. holidays) for the Calendar.\n",
        "class MyCalendar(AbstractHolidayCalendar):\n",
        "    rules = [\n",
        "        Holiday('NewYear', month=1, day=1, observance=nearest_workday),\n",
        "        Holiday('Christmas', month=12, day=25,\n",
        "                  observance=nearest_workday)\n",
        "    ]\n",
        "calendar = MyCalendar()\n",
        "holidays_index = calendar.holidays(\n",
        "    start=datetime.date(2020, 1, 1),\n",
        "    end=datetime.date(2030, 12, 31))\n",
        "holidays = np.array(holidays_index.to_pydatetime(), dtype=\"<M8[D]\")\n",
        "holidays"
      ]
    },
    {
      "cell_type": "code",
      "execution_count": 75,
      "metadata": {
        "id": "bEXj8TWZwVYD",
        "outputId": "ea7b1836-36d1-4a2d-f871-066102bb25c5",
        "colab": {
          "base_uri": "https://localhost:8080/"
        }
      },
      "outputs": [
        {
          "output_type": "stream",
          "name": "stdout",
          "text": [
            "tf.Tensor(\n",
            "[b'Wednesday' b'Friday' b'Friday' b'Friday' b'Friday' b'Monday' b'Monday'\n",
            " b'Monday' b'Monday' b'Wednesday' b'Wednesday' b'Thursday' b'Thursday'\n",
            " b'Friday' b'Friday' b'Friday' b'Friday' b'Monday' b'Monday' b'Tuesday'\n",
            " b'Tuesday' b'Wednesday'], shape=(22,), dtype=string)\n"
          ]
        }
      ],
      "source": [
        "# As you can see, all of the holidays have been adjusted to a week day, as would be the case for that year's Holiday Calendar.\n",
        "date_tensor = tff.datetime.dates_from_np_datetimes(holidays)\n",
        "input_tensor = date_tensor.day_of_week()\n",
        "out = table.lookup(input_tensor)\n",
        "print(out)"
      ]
    },
    {
      "cell_type": "markdown",
      "metadata": {
        "id": "NO9MnBH-xsfT"
      },
      "source": [
        "## Creating Holiday Calendars - manually\n",
        "\n",
        "Let's now create our own Holiday Calendar using the TFF Library. To do this, we need to specify:\n",
        "- A Weekend Mask: Boolean `Tensor` of 7 elements one for each day of the week starting with Monday at index 0. A `True` value indicates the day is considered a weekend day and a `False` value implies a week day.\n",
        "Default value: None which means no weekends are applied. The following enums for common weekend patterns are also accepted: `SATURDAY_SUNDAY`, `FRIDAY_SATURDAY`, `SUNDAY_ONLY`, `NONE`.\n",
        "- Holidays: In this case it will be necessary to provide holidays for each year, and also adjust the holidays to that fall on weekdays if necessary.\n",
        "- Start Year: the earliest year this calendar includes\n",
        "- End Year: the latest year this calendar includes"
      ]
    },
    {
      "cell_type": "code",
      "execution_count": 76,
      "metadata": {
        "id": "SeQwp_pxh14-"
      },
      "outputs": [],
      "source": [
        "# Create a calendar\n",
        "cal = tff.datetime.create_holiday_calendar(weekend_mask=tff.datetime.WeekendMask.SATURDAY_SUNDAY,\n",
        "                                           holidays=[(2020, 2, 25), (2020, 2, 26), (2019, 12, 25), (2019, 12, 26)], start_year=2019, end_year=2020)"
      ]
    },
    {
      "cell_type": "code",
      "execution_count": 77,
      "metadata": {
        "id": "6LnNWT8ifmhq",
        "outputId": "946f03ad-3c20-4998-a8b3-8323b2f5d80f",
        "colab": {
          "base_uri": "https://localhost:8080/"
        }
      },
      "outputs": [
        {
          "output_type": "execute_result",
          "data": {
            "text/plain": [
              "<tf.Tensor: shape=(2,), dtype=bool, numpy=array([False,  True])>"
            ]
          },
          "metadata": {},
          "execution_count": 77
        }
      ],
      "source": [
        "# Now, let's test it. Is 'dates' a business day?\n",
        "dates = tff.datetime.dates_from_tuples([(2020, 2, 25), (2020, 3, 20)])\n",
        "cal.is_business_day(dates)"
      ]
    },
    {
      "cell_type": "code",
      "execution_count": 78,
      "metadata": {
        "id": "jRSUNsc70SrS"
      },
      "outputs": [],
      "source": [
        "# Rather than using a WeekendMask Enum, let's create our own for 4-day weekends.\n",
        "new_cal = tff.datetime.create_holiday_calendar(weekend_mask = (0, 0, 0, 1, 1, 1, 1),\n",
        "                                           holidays=[(2020, 2, 25), (2020, 2, 26), (2019, 12, 25), (2019, 12, 26)], start_year=2019, end_year=2020)"
      ]
    },
    {
      "cell_type": "code",
      "execution_count": 79,
      "metadata": {
        "id": "w-laBs5u2jF_",
        "outputId": "55e1094e-e141-40ce-8159-998d31f24998",
        "colab": {
          "base_uri": "https://localhost:8080/"
        }
      },
      "outputs": [
        {
          "output_type": "execute_result",
          "data": {
            "text/plain": [
              "<tf.Tensor: shape=(2,), dtype=bool, numpy=array([False, False])>"
            ]
          },
          "metadata": {},
          "execution_count": 79
        }
      ],
      "source": [
        "# Let's see if the same holds true - is 'dates' a business day?\n",
        "dates = tff.datetime.dates_from_tuples([(2020, 2, 25), (2020, 3, 20)])\n",
        "new_cal.is_business_day(dates)"
      ]
    },
    {
      "cell_type": "code",
      "execution_count": 80,
      "metadata": {
        "id": "ftQ1V54c3tfJ"
      },
      "outputs": [],
      "source": [
        "# Great, now we have both days off!"
      ]
    },
    {
      "cell_type": "markdown",
      "metadata": {
        "id": "JVzYqiBPPOwK"
      },
      "source": [
        "##Roll Conventions\n",
        "\n",
        "Now that we have our holiday calendar and know how to work with dates, we can apply roll conventions to determine where the business days fall. The main argument is a `BusinessDayConvention` enum which determines how to roll a date that falls on a holiday (including weekends):\n",
        "\n",
        "*   `NONE`: No adjustment.\n",
        "*   `FOLLOWING`: Choose the first business day after the given holiday.\n",
        "*   `MODIFIED_FOLLOWING`: Choose the first business day after the given holiday\n",
        "  unless that day falls in the next calendar month, in which case choose the\n",
        "  first business day before the holiday.\n",
        "*   `PRECEDING`: Choose the first business day before the given holiday.\n",
        "*   `MODIFIED_PRECEDING`: Choose the first business day before the given holiday unless that day falls in the previous calendar month, in which case choose the first business day after the holiday.\n",
        "\n"
      ]
    },
    {
      "cell_type": "code",
      "execution_count": 81,
      "metadata": {
        "id": "QlgoiSccRLJ-",
        "outputId": "94fa909b-5ed4-4b60-baa7-4171eaa4be97",
        "colab": {
          "base_uri": "https://localhost:8080/"
        }
      },
      "outputs": [
        {
          "output_type": "execute_result",
          "data": {
            "text/plain": [
              "DateTensor: shape=(2,), contents=array([[2020,    3,    2],\n",
              "       [2020,    3,   23]], dtype=int32)"
            ]
          },
          "metadata": {},
          "execution_count": 81
        }
      ],
      "source": [
        "# Based on our four-day weekend holiday calendar, let's see what the next\n",
        "# business days are according to the `FOLLOWING` Convention:\n",
        "new_cal.roll_to_business_day(dates, roll_convention=tff.datetime.BusinessDayConvention.FOLLOWING)"
      ]
    },
    {
      "cell_type": "code",
      "execution_count": 82,
      "metadata": {
        "id": "B_x-LkDiTIL-",
        "outputId": "85af3414-8155-4d0f-8b4d-5e32e86c2853",
        "colab": {
          "base_uri": "https://localhost:8080/"
        }
      },
      "outputs": [
        {
          "output_type": "execute_result",
          "data": {
            "text/plain": [
              "DateTensor: shape=(2,), contents=array([[2020,    2,   24],\n",
              "       [2020,    3,   23]], dtype=int32)"
            ]
          },
          "metadata": {},
          "execution_count": 82
        }
      ],
      "source": [
        "# Since the first date transitions us to the following months, let's see how\n",
        "# `MODIFIED_FOLLOWING` works.\n",
        "new_cal.roll_to_business_day(dates, roll_convention=tff.datetime.BusinessDayConvention.MODIFIED_FOLLOWING)"
      ]
    },
    {
      "cell_type": "code",
      "execution_count": 83,
      "metadata": {
        "id": "U7Faa1xIVV2V",
        "outputId": "e7e784e6-553e-47da-cc77-deacd2365c8b",
        "colab": {
          "base_uri": "https://localhost:8080/"
        }
      },
      "outputs": [
        {
          "output_type": "execute_result",
          "data": {
            "text/plain": [
              "DateTensor: shape=(2,), contents=array([[2020,    3,   16],\n",
              "       [2020,    4,    6]], dtype=int32)"
            ]
          },
          "metadata": {},
          "execution_count": 83
        }
      ],
      "source": [
        "# We can also add or subtract business days using a roll convention, where \n",
        "# the second argument is the number of days we want to add/subtract, as follows:\n",
        "new_cal.add_business_days(dates, 6, tff.datetime.BusinessDayConvention.FOLLOWING)"
      ]
    },
    {
      "cell_type": "code",
      "execution_count": 84,
      "metadata": {
        "id": "t4oqEcW4VYWi",
        "outputId": "092379f6-4f68-4753-c12c-134241b35beb",
        "colab": {
          "base_uri": "https://localhost:8080/"
        }
      },
      "outputs": [
        {
          "output_type": "execute_result",
          "data": {
            "text/plain": [
              "DateTensor: shape=(2,), contents=array([[2020,    2,   11],\n",
              "       [2020,    3,    9]], dtype=int32)"
            ]
          },
          "metadata": {},
          "execution_count": 84
        }
      ],
      "source": [
        "new_cal.subtract_business_days(dates, 6, tff.datetime.BusinessDayConvention.FOLLOWING)"
      ]
    },
    {
      "cell_type": "markdown",
      "metadata": {
        "id": "lrlKem4-tQ8-"
      },
      "source": [
        "# **Day Count Conventions**\n"
      ]
    },
    {
      "cell_type": "markdown",
      "metadata": {
        "id": "VgAx5bBiNmQ5"
      },
      "source": [
        "Day count conventions are a system for determining how a coupon accumulates over a coupon period. They can also be seen as a method for converting date\n",
        "differences to elapsed time. The functions in this module of our library are based on the commonly used day count conventions: \n",
        "\n",
        "\n",
        "*   Actual (ISDA)\n",
        "*   Actual 360\n",
        "*   Actual 365\n",
        "*   Actual 365 fixed\n",
        "*   Thirty 360 (ISDA)\n",
        "\n",
        "*examples coming soon*"
      ]
    },
    {
      "cell_type": "markdown",
      "metadata": {
        "id": "cws8Jbkc0L4v"
      },
      "source": [
        "# **Scaling up**\n"
      ]
    },
    {
      "cell_type": "code",
      "execution_count": 85,
      "metadata": {
        "id": "AHf2SUTTfwKb",
        "outputId": "129658e3-0f2e-488a-aa50-79d1d3e632bc",
        "colab": {
          "base_uri": "https://localhost:8080/"
        }
      },
      "outputs": [
        {
          "output_type": "execute_result",
          "data": {
            "text/plain": [
              "DateTensor: shape=(1, 1827), contents=array([[[2015,    1,    1],\n",
              "        [2015,    1,    2],\n",
              "        [2015,    1,    3],\n",
              "        ...,\n",
              "        [2019,   12,   30],\n",
              "        [2019,   12,   31],\n",
              "        [2020,    1,    1]]], dtype=int32)"
            ]
          },
          "metadata": {},
          "execution_count": 85
        }
      ],
      "source": [
        "# Let's now consider 5 years worth of dates. We'll do this by using the \n",
        "# PeriodSchedule.dates function in the library, which is useful for creating \n",
        "# dates within a range.\n",
        "start_date=tff.datetime.dates_from_tuples([(2015, 1, 1)])\n",
        "end_date=tff.datetime.dates_from_tuples([(2020, 1, 1)])\n",
        "tenor = tff.datetime.periods.day()\n",
        "date_range = tff.datetime.PeriodicSchedule(start_date=start_date, end_date=end_date, tenor=tenor)\n",
        "date_range.dates()"
      ]
    },
    {
      "cell_type": "code",
      "execution_count": 86,
      "metadata": {
        "id": "gV-ZAcK-68jY"
      },
      "outputs": [],
      "source": [
        "# We can do this for an even bigger date range. Let's see how long that takes.\n",
        "start_date_alt=tff.datetime.dates_from_tuples([(1001, 1, 1)])\n",
        "end_date=tff.datetime.dates_from_tuples([(2020, 1, 1)])\n",
        "tenor = tff.datetime.periods.day()\n",
        "large_date_range = tff.datetime.PeriodicSchedule(start_date=start_date_alt, end_date=end_date, tenor=tenor)"
      ]
    },
    {
      "cell_type": "code",
      "execution_count": 87,
      "metadata": {
        "id": "uU8ZC4BZwMg2",
        "outputId": "157711d3-99e5-4e61-ed3f-4f82f3555896",
        "colab": {
          "base_uri": "https://localhost:8080/"
        }
      },
      "outputs": [
        {
          "output_type": "stream",
          "name": "stdout",
          "text": [
            "9.1 ms ± 3.61 ms per loop (mean ± std. dev. of 7 runs, 100 loops each)\n"
          ]
        }
      ],
      "source": [
        "%%timeit\n",
        "date_range = tff.datetime.PeriodicSchedule(start_date=start_date, end_date=end_date, tenor=tenor)\n",
        "date_range.dates()"
      ]
    },
    {
      "cell_type": "code",
      "execution_count": 88,
      "metadata": {
        "id": "Yin6gwre9uvz",
        "outputId": "b97e6549-0297-4a3f-9d7e-853add065a91",
        "colab": {
          "base_uri": "https://localhost:8080/"
        }
      },
      "outputs": [
        {
          "output_type": "execute_result",
          "data": {
            "text/plain": [
              "DateTensor: shape=(1, 372183), contents=array([[[1001,    1,    1],\n",
              "        [1001,    1,    2],\n",
              "        [1001,    1,    3],\n",
              "        ...,\n",
              "        [2019,   12,   30],\n",
              "        [2019,   12,   31],\n",
              "        [2020,    1,    1]]], dtype=int32)"
            ]
          },
          "metadata": {},
          "execution_count": 88
        }
      ],
      "source": [
        "dates = large_date_range.dates()\n",
        "dates"
      ]
    },
    {
      "cell_type": "code",
      "execution_count": 89,
      "metadata": {
        "id": "XupiasmviPLf",
        "outputId": "4c881bfe-db83-4d83-934c-aaec71b21305",
        "colab": {
          "base_uri": "https://localhost:8080/"
        }
      },
      "outputs": [
        {
          "output_type": "execute_result",
          "data": {
            "text/plain": [
              "<tf.Tensor: shape=(), dtype=float32, numpy=90403.0>"
            ]
          },
          "metadata": {},
          "execution_count": 89
        }
      ],
      "source": [
        "# How many leap years are within these dates?\n",
        "years = dates.year()\n",
        "leap_years_boolean = tff.datetime.utils.is_leap_year(years)\n",
        "tf.reduce_sum(tf.cast(leap_years_boolean, tf.float32)) # Count the number of 'True' values by casting the values to floats.#"
      ]
    },
    {
      "cell_type": "code",
      "execution_count": 90,
      "metadata": {
        "id": "41La2a7cXhpi"
      },
      "outputs": [],
      "source": [
        "# 90,403 leap years out of the 372,183 years we provided, sounds about right!"
      ]
    }
  ],
  "metadata": {
    "colab": {
      "collapsed_sections": [],
      "name": "Dates_in_TFF.ipynb",
      "provenance": []
    },
    "kernelspec": {
      "display_name": "Python 3",
      "name": "python3"
    }
  },
  "nbformat": 4,
  "nbformat_minor": 0
}